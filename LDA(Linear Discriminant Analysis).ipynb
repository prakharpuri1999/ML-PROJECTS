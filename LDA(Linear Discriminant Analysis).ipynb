{
 "cells": [
  {
   "cell_type": "code",
   "execution_count": 1,
   "metadata": {},
   "outputs": [],
   "source": [
    "import numpy as np\n",
    "import pandas as pd"
   ]
  },
  {
   "cell_type": "code",
   "execution_count": 2,
   "metadata": {},
   "outputs": [
    {
     "data": {
      "text/html": [
       "<div>\n",
       "<style scoped>\n",
       "    .dataframe tbody tr th:only-of-type {\n",
       "        vertical-align: middle;\n",
       "    }\n",
       "\n",
       "    .dataframe tbody tr th {\n",
       "        vertical-align: top;\n",
       "    }\n",
       "\n",
       "    .dataframe thead th {\n",
       "        text-align: right;\n",
       "    }\n",
       "</style>\n",
       "<table border=\"1\" class=\"dataframe\">\n",
       "  <thead>\n",
       "    <tr style=\"text-align: right;\">\n",
       "      <th></th>\n",
       "      <th>sepal-length</th>\n",
       "      <th>sepal-width</th>\n",
       "      <th>petal-length</th>\n",
       "      <th>petal-width</th>\n",
       "      <th>Class</th>\n",
       "    </tr>\n",
       "  </thead>\n",
       "  <tbody>\n",
       "    <tr>\n",
       "      <th>0</th>\n",
       "      <td>5.1</td>\n",
       "      <td>3.5</td>\n",
       "      <td>1.4</td>\n",
       "      <td>0.2</td>\n",
       "      <td>Iris-setosa</td>\n",
       "    </tr>\n",
       "    <tr>\n",
       "      <th>1</th>\n",
       "      <td>4.9</td>\n",
       "      <td>3.0</td>\n",
       "      <td>1.4</td>\n",
       "      <td>0.2</td>\n",
       "      <td>Iris-setosa</td>\n",
       "    </tr>\n",
       "    <tr>\n",
       "      <th>2</th>\n",
       "      <td>4.7</td>\n",
       "      <td>3.2</td>\n",
       "      <td>1.3</td>\n",
       "      <td>0.2</td>\n",
       "      <td>Iris-setosa</td>\n",
       "    </tr>\n",
       "    <tr>\n",
       "      <th>3</th>\n",
       "      <td>4.6</td>\n",
       "      <td>3.1</td>\n",
       "      <td>1.5</td>\n",
       "      <td>0.2</td>\n",
       "      <td>Iris-setosa</td>\n",
       "    </tr>\n",
       "    <tr>\n",
       "      <th>4</th>\n",
       "      <td>5.0</td>\n",
       "      <td>3.6</td>\n",
       "      <td>1.4</td>\n",
       "      <td>0.2</td>\n",
       "      <td>Iris-setosa</td>\n",
       "    </tr>\n",
       "  </tbody>\n",
       "</table>\n",
       "</div>"
      ],
      "text/plain": [
       "   sepal-length  sepal-width  petal-length  petal-width        Class\n",
       "0           5.1          3.5           1.4          0.2  Iris-setosa\n",
       "1           4.9          3.0           1.4          0.2  Iris-setosa\n",
       "2           4.7          3.2           1.3          0.2  Iris-setosa\n",
       "3           4.6          3.1           1.5          0.2  Iris-setosa\n",
       "4           5.0          3.6           1.4          0.2  Iris-setosa"
      ]
     },
     "execution_count": 2,
     "metadata": {},
     "output_type": "execute_result"
    }
   ],
   "source": [
    "df=pd.read_csv('iris.csv',names=['sepal-length', 'sepal-width', 'petal-length', 'petal-width', 'Class'])\n",
    "df.head()"
   ]
  },
  {
   "cell_type": "code",
   "execution_count": 3,
   "metadata": {},
   "outputs": [],
   "source": [
    "x=df.iloc[:,0:4].values\n",
    "y=df.iloc[:,4].values"
   ]
  },
  {
   "cell_type": "code",
   "execution_count": 4,
   "metadata": {},
   "outputs": [],
   "source": [
    "from sklearn.model_selection import train_test_split\n",
    "x_train,x_test,y_train,y_test=train_test_split(x,y,test_size=0.2)"
   ]
  },
  {
   "cell_type": "code",
   "execution_count": 5,
   "metadata": {},
   "outputs": [],
   "source": [
    "from sklearn.preprocessing import StandardScaler\n",
    "sc=StandardScaler()\n",
    "x_train=sc.fit_transform(x_train)\n",
    "x_test=sc.transform(x_test)"
   ]
  },
  {
   "cell_type": "code",
   "execution_count": 6,
   "metadata": {},
   "outputs": [],
   "source": [
    "from sklearn.discriminant_analysis import LinearDiscriminantAnalysis as LDA\n",
    "lda=LDA(n_components=1)\n",
    "x_train=lda.fit_transform(x_train,y_train)\n",
    "x_test=lda.transform(x_test)"
   ]
  },
  {
   "cell_type": "code",
   "execution_count": 7,
   "metadata": {},
   "outputs": [
    {
     "data": {
      "text/plain": [
       "93.33333333333333"
      ]
     },
     "execution_count": 7,
     "metadata": {},
     "output_type": "execute_result"
    }
   ],
   "source": [
    "from sklearn.ensemble import RandomForestClassifier\n",
    "clf=RandomForestClassifier(max_depth=2)\n",
    "clf.fit(x_train,y_train)\n",
    "clf.score(x_test,y_test)*100"
   ]
  },
  {
   "cell_type": "code",
   "execution_count": 8,
   "metadata": {},
   "outputs": [
    {
     "data": {
      "text/plain": [
       "array([[  1.14582314],\n",
       "       [ -6.97869707],\n",
       "       [  0.68089289],\n",
       "       [ -5.62037233],\n",
       "       [ -9.0059968 ],\n",
       "       [  5.21426079],\n",
       "       [  1.23711185],\n",
       "       [  2.42284028],\n",
       "       [ -7.51875855],\n",
       "       [  2.41977944],\n",
       "       [ -7.5639268 ],\n",
       "       [ -7.00600512],\n",
       "       [  6.92794793],\n",
       "       [  1.72255722],\n",
       "       [ -7.53071434],\n",
       "       [ -7.06204302],\n",
       "       [  4.0971296 ],\n",
       "       [  0.29807547],\n",
       "       [ -7.7567573 ],\n",
       "       [ -7.80083941],\n",
       "       [ -7.60399587],\n",
       "       [ -8.5239479 ],\n",
       "       [  5.26187332],\n",
       "       [  6.9240182 ],\n",
       "       [  5.86576848],\n",
       "       [  1.25639384],\n",
       "       [  5.57982156],\n",
       "       [  5.74188387],\n",
       "       [  1.32296575],\n",
       "       [  2.00619382],\n",
       "       [  6.83665921],\n",
       "       [ -7.96664278],\n",
       "       [  2.34322642],\n",
       "       [  4.68520291],\n",
       "       [  1.57773855],\n",
       "       [  1.0169733 ],\n",
       "       [ -7.64671986],\n",
       "       [  1.30028729],\n",
       "       [  2.48322684],\n",
       "       [ -7.1126461 ],\n",
       "       [  5.86719027],\n",
       "       [  5.47365018],\n",
       "       [  2.09388844],\n",
       "       [  3.95647095],\n",
       "       [  0.36884906],\n",
       "       [  0.92228812],\n",
       "       [  6.94982116],\n",
       "       [  5.69270258],\n",
       "       [  0.40471644],\n",
       "       [  2.02901926],\n",
       "       [  4.81622506],\n",
       "       [ -8.54582114],\n",
       "       [  1.71650583],\n",
       "       [ -6.48938565],\n",
       "       [ -7.82522058],\n",
       "       [  1.96584382],\n",
       "       [  4.49638545],\n",
       "       [  2.72311697],\n",
       "       [  7.86996184],\n",
       "       [  0.7437874 ],\n",
       "       [  5.62641161],\n",
       "       [ -8.28193611],\n",
       "       [  6.31814836],\n",
       "       [  2.21594535],\n",
       "       [ -8.0166293 ],\n",
       "       [ -7.60399587],\n",
       "       [ -9.74445755],\n",
       "       [ -7.46272065],\n",
       "       [  5.12813494],\n",
       "       [  6.76180892],\n",
       "       [ -6.69275015],\n",
       "       [  5.38699106],\n",
       "       [  6.16694267],\n",
       "       [  3.53188173],\n",
       "       [  6.52121891],\n",
       "       [  2.40782365],\n",
       "       [  2.59577222],\n",
       "       [  4.17504074],\n",
       "       [ -6.74613313],\n",
       "       [  1.39204559],\n",
       "       [  9.38554365],\n",
       "       [  5.6273638 ],\n",
       "       [  3.66914392],\n",
       "       [ -8.20945979],\n",
       "       [ -7.29380174],\n",
       "       [  2.88178281],\n",
       "       [ -8.50316082],\n",
       "       [ -7.14681076],\n",
       "       [  4.96137936],\n",
       "       [-10.03645585],\n",
       "       [  6.36270005],\n",
       "       [  6.64586707],\n",
       "       [ -8.41730692],\n",
       "       [  5.03181733],\n",
       "       [ -8.81254973],\n",
       "       [  4.54889292],\n",
       "       [ -8.31066595],\n",
       "       [ -8.11335283],\n",
       "       [  1.08781056],\n",
       "       [  6.33696076],\n",
       "       [  2.59175919],\n",
       "       [ -7.32877162],\n",
       "       [  1.39577769],\n",
       "       [ -9.06543116],\n",
       "       [  3.96175879],\n",
       "       [  6.32791882],\n",
       "       [  2.05089249],\n",
       "       [ -0.38672137],\n",
       "       [ -6.9198156 ],\n",
       "       [ -8.94934233],\n",
       "       [  6.42049536],\n",
       "       [  1.19955072],\n",
       "       [  6.90851896],\n",
       "       [  5.78501378],\n",
       "       [  2.36463007],\n",
       "       [  6.81274762],\n",
       "       [  4.4451658 ],\n",
       "       [  2.63787964],\n",
       "       [ -8.24872364],\n",
       "       [ -0.2791282 ]])"
      ]
     },
     "execution_count": 8,
     "metadata": {},
     "output_type": "execute_result"
    }
   ],
   "source": [
    "x_train"
   ]
  },
  {
   "cell_type": "code",
   "execution_count": null,
   "metadata": {},
   "outputs": [],
   "source": []
  }
 ],
 "metadata": {
  "kernelspec": {
   "display_name": "Python 3",
   "language": "python",
   "name": "python3"
  },
  "language_info": {
   "codemirror_mode": {
    "name": "ipython",
    "version": 3
   },
   "file_extension": ".py",
   "mimetype": "text/x-python",
   "name": "python",
   "nbconvert_exporter": "python",
   "pygments_lexer": "ipython3",
   "version": "3.7.6"
  }
 },
 "nbformat": 4,
 "nbformat_minor": 4
}
